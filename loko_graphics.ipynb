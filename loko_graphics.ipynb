{
 "cells": [
  {
   "cell_type": "code",
   "execution_count": 1,
   "metadata": {},
   "outputs": [
    {
     "name": "stdout",
     "output_type": "stream",
     "text": [
      "Количество записей:\n",
      "14241\n"
     ]
    },
    {
     "data": {
      "text/plain": [
       "<Figure size 12000x2000 with 1 Axes>"
      ]
     },
     "metadata": {},
     "output_type": "display_data"
    }
   ],
   "source": [
    "import matplotlib\n",
    "from matplotlib import rcParams\n",
    "import matplotlib.pyplot as plt\n",
    "import numpy as np\n",
    "\n",
    "f = open('lokodata_10.txt')\n",
    "data = f.read()\n",
    "data1_objects = data.split('\\n') #создание списка, объекты которого содержат данные по каждой записи\n",
    "print('Количество записей:')\n",
    "print(len(data1_objects))\n",
    "data2_objects = []\n",
    "i = 0\n",
    "while i < len(data1_objects):\n",
    "    object_transfer = data1_objects[i].split('\\t') #создание списка из списков, содержащих данные по каждой записи\n",
    "    data2_objects.append(object_transfer)\n",
    "    i = i + 1\n",
    "\n",
    "data_printx = []\n",
    "data_printy = []\n",
    "j = 0\n",
    "j1 = 1\n",
    "j2 = 3\n",
    "while j < len(data2_objects) - 1:\n",
    "    datax = data2_objects[j][j1]\n",
    "    data_printx.append(datax)\n",
    "    datay = data2_objects[j][j2]\n",
    "    data_printy.append(datay)\n",
    "    j = j + 1\n",
    "\n",
    "fig = plt.figure(1, [120, 20]) #размеры графика регулируются вторым параметром функции\n",
    "ax = fig.add_subplot(211)\n",
    "\n",
    "ax.scatter(data_printx, data_printy) #создается облако точек\n",
    "ax.set_xlabel(u'rpm_diesel')\n",
    "ax.set_ylabel(u'poz_kont_sec')\n",
    "fig.savefig('grafs/graf_10') #сохранение рисунка png в папку с проектом\n",
    "plt.show()"
   ]
  },
  {
   "cell_type": "code",
   "execution_count": null,
   "metadata": {},
   "outputs": [],
   "source": []
  },
  {
   "cell_type": "code",
   "execution_count": null,
   "metadata": {},
   "outputs": [],
   "source": []
  }
 ],
 "metadata": {
  "kernelspec": {
   "display_name": "Python 3",
   "language": "python",
   "name": "python3"
  },
  "language_info": {
   "codemirror_mode": {
    "name": "ipython",
    "version": 3
   },
   "file_extension": ".py",
   "mimetype": "text/x-python",
   "name": "python",
   "nbconvert_exporter": "python",
   "pygments_lexer": "ipython3",
   "version": "3.7.4"
  }
 },
 "nbformat": 4,
 "nbformat_minor": 2
}
